{
  "nbformat": 4,
  "nbformat_minor": 0,
  "metadata": {
    "colab": {
      "name": "notebook.ipynb",
      "provenance": [],
      "collapsed_sections": []
    },
    "kernelspec": {
      "display_name": "Julia",
      "language": "julia",
      "name": "julia"
    },
    "language_info": {
      "file_extension": ".jl",
      "mimetype": "application/julia",
      "name": "julia"
    }
  },
  "cells": [
    {
      "cell_type": "markdown",
      "metadata": {
        "id": "tQ1r1bbb0yBv"
      },
      "source": [
        "## Julia Setup"
      ]
    },
    {
      "cell_type": "markdown",
      "metadata": {
        "id": "Jo8inF_1io3b"
      },
      "source": [
        "Execute the following cell to setup Julia. It should take about a minute. "
      ]
    },
    {
      "cell_type": "code",
      "metadata": {
        "id": "GIeFXS0F0zww"
      },
      "source": [
        "%%shell\n",
        "set -e\n",
        "\n",
        "JULIA_VERSION=\"1.7.0-beta4\"  \n",
        "JULIA_NUM_THREADS=2\n",
        "\n",
        "if [ -z `which julia` ]; then\n",
        "  echo \"Installing Julia...\"\n",
        "  JULIA_VER=`cut -d '.' -f -2 <<< \"$JULIA_VERSION\"`\n",
        "  BASE_URL=\"https://julialang-s3.julialang.org/bin/linux/x64\"\n",
        "  URL=\"$BASE_URL/$JULIA_VER/julia-$JULIA_VERSION-linux-x86_64.tar.gz\"\n",
        "  curl -L $URL | tar -xzf - -C /usr/local --strip-components 1\n",
        "fi\n",
        "\n",
        "echo \"Downloading depot...\"\n",
        "curl -L https://github.com/shivak/julia-colab/raw/main/depot/$JULIA_VERSION.tar.xz.{00,01,02} | tar -xJf - --strip-components 1 -C /root/\n",
        "\n",
        "# Install kernel and rename it to \"julia\"\n",
        "echo \"Installing IJulia kernel...\"\n",
        "julia -e 'using IJulia; IJulia.installkernel(\"julia\", env=Dict(\"JULIA_NUM_THREADS\"=>\"'\"$JULIA_NUM_THREADS\"'\"))'\n",
        "KERNEL_DIR=`julia -e \"using IJulia; print(IJulia.kerneldir())\"`\n",
        "KERNEL_NAME=`ls -d \"$KERNEL_DIR\"/julia-*`\n",
        "echo $KERNEL_DIR\n",
        "echo $KERNEL_NAME\n",
        "mv -f $KERNEL_NAME \"$KERNEL_DIR\"/julia  \n",
        "\n",
        "echo \"\"\n",
        "echo \"Success! Reload this page to start using Julia.\""
      ],
      "execution_count": null,
      "outputs": []
    },
    {
      "cell_type": "markdown",
      "metadata": {
        "id": "-OS3Ac017T1i"
      },
      "source": [
        "After installation and reloading, try running the following Julia code:"
      ]
    },
    {
      "cell_type": "code",
      "metadata": {
        "id": "EEzvvzCl1i0F"
      },
      "source": [
        "versioninfo()"
      ],
      "execution_count": null,
      "outputs": []
    }
  ]
}